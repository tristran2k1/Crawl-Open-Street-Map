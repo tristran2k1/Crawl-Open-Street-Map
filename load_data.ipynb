{
 "cells": [
  {
   "cell_type": "code",
   "execution_count": 1,
   "id": "00e4227a-63b6-4cd0-8bd7-fcd5e923da78",
   "metadata": {},
   "outputs": [],
   "source": [
    "from bs4 import BeautifulSoup\n",
    "import requests\n",
    "import warnings\n",
    "warnings.simplefilter(action='ignore', category=FutureWarning)\n",
    "import pandas as pd\n",
    "import psycopg2\n",
    "import numpy as np"
   ]
  },
  {
   "attachments": {},
   "cell_type": "markdown",
   "id": "a377fdb9-426d-4da9-818e-3d22b0895d9b",
   "metadata": {},
   "source": [
    "#### Setup database follow by https://github.com/mediagis/nominatim-docker/tree/master/4.0"
   ]
  },
  {
   "cell_type": "code",
   "execution_count": 2,
   "id": "7a2f8c94-5677-48a7-b060-31183b07dc01",
   "metadata": {},
   "outputs": [],
   "source": [
    "conn = psycopg2.connect(database = \"nominatim\", user = \"nominatim\", password = \"very_secure_password\", host = \"127.0.0.1\", port = \"5432\")"
   ]
  },
  {
   "cell_type": "code",
   "execution_count": 3,
   "id": "d1be6fd3-637d-45ac-a555-ad4ec667ad98",
   "metadata": {},
   "outputs": [],
   "source": [
    "cur = connect.cursor()\n",
    "cur.execute(''' SELECT osm_id\n",
    "                FROM placex\n",
    "                WHERE name is not null and osm_type='W';''')\n",
    "rows = cur.fetchall()\n",
    "conn.commit()\n",
    "conn.close()"
   ]
  },
  {
   "cell_type": "code",
   "execution_count": 5,
   "id": "6b66de9e-51c0-4aec-a7ef-59bba4a84798",
   "metadata": {},
   "outputs": [],
   "source": [
    "osm_id_list = list()\n",
    "for i in range (len(rows)):\n",
    "    osm_id_list.append(rows[i][0])"
   ]
  },
  {
   "cell_type": "code",
   "execution_count": 6,
   "id": "62babe59-e0a1-49fe-87f3-f30a064e28a1",
   "metadata": {},
   "outputs": [
    {
     "data": {
      "text/plain": [
       "156366"
      ]
     },
     "execution_count": 6,
     "metadata": {},
     "output_type": "execute_result"
    }
   ],
   "source": [
    "len(osm_id_list)"
   ]
  },
  {
   "cell_type": "code",
   "execution_count": null,
   "id": "4105cb3d-eff7-4713-8833-fcbc7dc6917d",
   "metadata": {},
   "outputs": [],
   "source": [
    "url = \"http://localhost:8080/lookup?osm_ids=W\"\n",
    "i = 1 \n",
    "\n",
    "for osm_id in range(1,len(osm_id_list)) : \n",
    "    content=requests.get(url + str(osm_id_list[osm_id])).text\n",
    "    xml_text = BeautifulSoup(content)\n",
    "\n",
    "    df = pd.DataFrame()\n",
    "    state = region = city = county = district = city_district = town = suburb = village = road = neighbourhood = ''\n",
    "    if xml_text.find('state'):\n",
    "        state = xml_text.state.text\n",
    "    if xml_text.find('region'):\n",
    "        region = xml_text.region.text\n",
    "    if xml_text.find('city'):\n",
    "        city = xml_text.city.text\n",
    "    if xml_text.find('county'):\n",
    "        county = xml_text.county.text\n",
    "    if xml_text.find('district'):\n",
    "        district = xml_text.district.text\n",
    "    if xml_text.find('city_district'):\n",
    "        city_district = xml_text.city_district.text\n",
    "    if xml_text.find('town'):\n",
    "        town = xml_text.town.text\n",
    "    if xml_text.find('suburb'):\n",
    "        suburb = xml_text.suburb.text\n",
    "    if xml_text.find('village'):\n",
    "        village = xml_text.village.text\n",
    "    if xml_text.find('road'):\n",
    "        road = xml_text.road.text\n",
    "    if xml_text.find('neighbourhood'):\n",
    "        neighbourhood = xml_text.neighbourhood.text\n",
    "    try: \n",
    "        address = xml_text.place.attrs['display_name']\n",
    "        osm_id = xml_text.place.attrs['osm_id']\n",
    "    except:\n",
    "        print(osm_id, xml_text)\n",
    "        continue\n",
    "    df = pd.DataFrame([[osm_id,state,region,city,county,district,city_district,town,suburb,village,road,neighbourhood,address]],\n",
    "                      columns=['osm_id','state','region','city','county','district','city_district','town','suburb','village','road','neighbourhood','address'])\n",
    "    \n",
    "    if i == 1 :\n",
    "        df.to_csv('./data/raw-osm-data.csv', mode='w', index=False, header=True)\n",
    "        i = 2\n",
    "    else:\n",
    "        df.to_csv('./data/raw-osm-data.csv', mode='a', index=False, header=False)"
   ]
  }
 ],
 "metadata": {
  "kernelspec": {
   "display_name": "Python 3 (ipykernel)",
   "language": "python",
   "name": "python3"
  },
  "language_info": {
   "codemirror_mode": {
    "name": "ipython",
    "version": 3
   },
   "file_extension": ".py",
   "mimetype": "text/x-python",
   "name": "python",
   "nbconvert_exporter": "python",
   "pygments_lexer": "ipython3",
   "version": "3.9.12"
  }
 },
 "nbformat": 4,
 "nbformat_minor": 5
}
